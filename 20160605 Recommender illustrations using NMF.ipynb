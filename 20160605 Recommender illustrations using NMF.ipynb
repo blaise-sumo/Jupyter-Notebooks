{
 "cells": [
  {
   "cell_type": "markdown",
   "metadata": {},
   "source": [
    "\n",
    "How to do this so that we actually make predictions for, say, nulls or 0's???\n",
    "see: http://www.quuxlabs.com/blog/2010/09/matrix-factorization-a-simple-tutorial-and-implementation-in-python/\n",
    "\n",
    "\n",
    "SKLEARN does matrix FACTORISATION but NOT matrix COMPLETION: http://stackoverflow.com/questions/34834801/nmf-sparse-matrix-analysis-using-sklearn?rq=1\n",
    "\n",
    "\n",
    "movie ratings: How you could code it by hand: http://bugra.github.io/work/notes/2014-04-19/alternating-least-squares-method-for-collaborative-filtering/\n",
    "\n",
    "Python: look at https://github.com/marinkaz/nimfa\n"
   ]
  },
  {
   "cell_type": "code",
   "execution_count": null,
   "metadata": {
    "collapsed": true
   },
   "outputs": [],
   "source": []
  },
  {
   "cell_type": "markdown",
   "metadata": {},
   "source": [
    "scikit: basic FACTORISATION, doesn't do COMPLETION"
   ]
  },
  {
   "cell_type": "code",
   "execution_count": 41,
   "metadata": {
    "collapsed": false
   },
   "outputs": [
    {
     "name": "stdout",
     "output_type": "stream",
     "text": [
      "[[ 5.2  2.1  0.   5.2]\n",
      " [ 3.8  1.   0.   0.8]\n",
      " [ 1.   1.2  4.   5. ]\n",
      " [ 0.8  0.9  0.   3.8]\n",
      " [ 0.   0.8  5.   4. ]]\n"
     ]
    }
   ],
   "source": [
    "import numpy as np\n",
    "from sklearn.decomposition import NMF , ProjectedGradientNMF\n",
    "R = [\n",
    "     [5,3,0,5],\n",
    "     [4,0,0,1],\n",
    "     [1,1,4,5],\n",
    "     [1,0,0,4],\n",
    "     [0,1,5,4],\n",
    "    ]\n",
    "R = np.array(R) \n",
    "#R = normalize(R)\n",
    "nmf = ProjectedGradientNMF(n_components=3)\n",
    "#nmf = NMF(n_components=3, init='random')\n",
    "W = nmf.fit_transform(R);\n",
    "H = nmf.components_;\n",
    "nR = np.dot(W,H)\n",
    "print np.round(nR,1)"
   ]
  },
  {
   "cell_type": "markdown",
   "metadata": {},
   "source": [
    "Example that masks values to test error\n",
    "\n",
    "http://codereview.stackexchange.com/questions/96725/imputing-values-with-non-negative-matrix-factorization"
   ]
  },
  {
   "cell_type": "code",
   "execution_count": 18,
   "metadata": {
    "collapsed": true
   },
   "outputs": [
    {
     "name": "stderr",
     "output_type": "stream",
     "text": [
      "/Users/Cam/anaconda/lib/python2.7/site-packages/sklearn/decomposition/nmf.py:532: UserWarning: Iteration limit reached during fit. Solving for W exactly.\n",
      "  warnings.warn(\"Iteration limit reached during fit. Solving for W exactly.\")\n"
     ]
    },
    {
     "name": "stdout",
     "output_type": "stream",
     "text": [
      "41.8015332773\n",
      "36.1356109666\n",
      "31.8349723083\n",
      "28.4097472647\n",
      "25.6079537436\n",
      "23.2719778825\n",
      "21.2952879314\n",
      "19.6025083055\n",
      "18.1380210539\n",
      "16.860354506\n",
      "15.7375756925\n",
      "14.7444202091\n",
      "13.8608667614\n",
      "13.0705635007\n",
      "12.3602672885\n",
      "11.7190174127\n",
      "11.1378013291\n",
      "10.6090322185\n",
      "10.1262805657\n",
      "9.68412714536\n",
      "9.27788466751\n",
      "8.90363074088\n",
      "8.5578880435\n",
      "8.23773474246\n",
      "7.94050799109\n",
      "7.66398492906\n",
      "7.40616130104\n",
      "7.16522352798\n",
      "6.93963549332\n",
      "6.72802806945\n",
      "6.52918427647\n",
      "6.34203817683\n",
      "6.16562151638\n",
      "5.9990795843\n",
      "5.84164106616\n",
      "5.69263361085\n",
      "5.55142879184\n",
      "5.41742960801\n",
      "5.29010989821\n",
      "5.1690428391\n",
      "5.05380187923\n",
      "4.94394280411\n",
      "4.83910960415\n",
      "4.73897568071\n",
      "4.64324105842\n",
      "4.55164912483\n",
      "4.46397182517\n",
      "4.37990761607\n",
      "4.29932062391\n",
      "4.22199452734\n",
      "4.1477817207\n",
      "4.0765418934\n",
      "4.00803220737\n",
      "3.94211069979\n",
      "3.87862962981\n",
      "3.81744608633\n",
      "3.75844794653\n",
      "3.70152898905\n",
      "3.64652184943\n",
      "3.59330925233\n",
      "3.5418655805\n",
      "3.49213246651\n",
      "3.44401736912\n",
      "3.39743866911\n",
      "3.35232887738\n",
      "3.30862717267\n",
      "3.26626762491\n",
      "3.22521568035\n",
      "3.18536608843\n",
      "3.14673057249\n"
     ]
    }
   ],
   "source": [
    "from pandas import DataFrame\n",
    "import numpy as np\n",
    "from sklearn.decomposition import ProjectedGradientNMF\n",
    "\n",
    "# Example data matrix X\n",
    "nrows, ncols = 200, 150\n",
    "toy_vals = np.random.random(nrows*ncols).reshape((nrows, ncols))\n",
    "toy_vals[toy_vals < 0.9] = np.nan\n",
    "X = DataFrame(toy_vals, index=range(nrows), columns=range(ncols))\n",
    "\n",
    "# Hiding values to test imputation\n",
    "X_imputed = X.copy()\n",
    "msk = (X.values + np.random.randn(*X.shape) - X.values) < 0.8\n",
    "X_imputed.values[~msk] = 0\n",
    "\n",
    "# Initializing model\n",
    "nmf_model = ProjectedGradientNMF(n_components=5)\n",
    "nmf_model.fit(X_imputed.values)\n",
    "\n",
    "# iterate model\n",
    "while nmf_model.reconstruction_err_**2 > 10:\n",
    "    W = nmf_model.fit_transform(X_imputed.values)\n",
    "    X_imputed.values[~msk] = W.dot(nmf_model.components_)[~msk]\n",
    "    print nmf_model.reconstruction_err_"
   ]
  },
  {
   "cell_type": "code",
   "execution_count": null,
   "metadata": {
    "collapsed": true
   },
   "outputs": [],
   "source": []
  },
  {
   "cell_type": "code",
   "execution_count": null,
   "metadata": {
    "collapsed": true
   },
   "outputs": [],
   "source": []
  },
  {
   "cell_type": "code",
   "execution_count": null,
   "metadata": {
    "collapsed": true
   },
   "outputs": [],
   "source": []
  },
  {
   "cell_type": "code",
   "execution_count": null,
   "metadata": {
    "collapsed": true
   },
   "outputs": [],
   "source": []
  },
  {
   "cell_type": "code",
   "execution_count": null,
   "metadata": {
    "collapsed": true
   },
   "outputs": [],
   "source": []
  },
  {
   "cell_type": "code",
   "execution_count": null,
   "metadata": {
    "collapsed": true
   },
   "outputs": [],
   "source": []
  }
 ],
 "metadata": {
  "kernelspec": {
   "display_name": "Python 2",
   "language": "python",
   "name": "python2"
  },
  "language_info": {
   "codemirror_mode": {
    "name": "ipython",
    "version": 2
   },
   "file_extension": ".py",
   "mimetype": "text/x-python",
   "name": "python",
   "nbconvert_exporter": "python",
   "pygments_lexer": "ipython2",
   "version": "2.7.11"
  }
 },
 "nbformat": 4,
 "nbformat_minor": 0
}
